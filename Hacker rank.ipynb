{
 "cells": [
  {
   "cell_type": "code",
   "execution_count": 2,
   "id": "72e7250c",
   "metadata": {},
   "outputs": [
    {
     "data": {
      "text/plain": [
       "(10, 8, 7)"
      ]
     },
     "execution_count": 2,
     "metadata": {},
     "output_type": "execute_result"
    }
   ],
   "source": [
    "def find_max_perimetertrainagle(s):\n",
    "    s.sort(reverse=True)\n",
    "    for i in range(len(s)-2):\n",
    "        a,b,c=s[i],s[i+1],s[i+2]\n",
    "        if a<b+c:\n",
    "            return (a,b,c)\n",
    "    return None\n",
    "s=[3, 6, 7, 2, 8, 10]\n",
    "find_max_perimetertrainagle(s)\n"
   ]
  },
  {
   "cell_type": "code",
   "execution_count": 4,
   "id": "b78bfd2b",
   "metadata": {},
   "outputs": [
    {
     "data": {
      "text/plain": [
       "9"
      ]
     },
     "execution_count": 4,
     "metadata": {},
     "output_type": "execute_result"
    }
   ],
   "source": [
    "def alternatingCharacters(s):\n",
    "    dele=0\n",
    "    for i in range(1,len(s)):\n",
    "        if s[i]==s[i-1]:\n",
    "            dele+=1\n",
    "    return dele\n",
    "s=\"AAAAABBAAACCC\"\n",
    "alternatingCharacters(s)"
   ]
  },
  {
   "cell_type": "code",
   "execution_count": 7,
   "id": "073a7492",
   "metadata": {},
   "outputs": [
    {
     "data": {
      "text/plain": [
       "True"
      ]
     },
     "execution_count": 7,
     "metadata": {},
     "output_type": "execute_result"
    }
   ],
   "source": [
    "##panagram\n",
    "import string\n",
    "\n",
    "def is_panagram(sentence):\n",
    "    alphabet=set(string.ascii_lowercase)\n",
    "    sentence=sentence.lower()\n",
    "    \n",
    "    sentence=''.join(filter(str.isalpha,sentence))\n",
    "    unique=set(sentence)\n",
    "    return unique==alphabet\n",
    "sentence=\"The quick brown fox jumps over the lazy dog\"\n",
    "is_panagram(sentence)"
   ]
  },
  {
   "cell_type": "code",
   "execution_count": 9,
   "id": "003b8f26",
   "metadata": {},
   "outputs": [
    {
     "data": {
      "text/plain": [
       "[(1, 5, 9),\n",
       " (1, 6, 8),\n",
       " (2, 4, 9),\n",
       " (2, 5, 8),\n",
       " (2, 6, 7),\n",
       " (3, 4, 8),\n",
       " (3, 5, 7),\n",
       " (4, 5, 6)]"
      ]
     },
     "execution_count": 9,
     "metadata": {},
     "output_type": "execute_result"
    }
   ],
   "source": [
    "#triplet sum\n",
    "\n",
    "def findtripletsum(arr,target):\n",
    "    triplet=[]\n",
    "    n=len(arr)\n",
    "    for i in range(n-2):\n",
    "        for j in range(i+1,n-1):\n",
    "            for k in range(j+1,n):\n",
    "                if arr[i]+arr[j]+arr[k]==target:\n",
    "                    triplet.append((arr[i],arr[j],arr[k]))\n",
    "    return triplet\n",
    "\n",
    "arr=[1, 2, 3, 4, 5, 6, 7, 8, 9]\n",
    "target=15\n",
    "findtripletsum(arr,target)"
   ]
  },
  {
   "cell_type": "code",
   "execution_count": 10,
   "id": "a847e00f",
   "metadata": {},
   "outputs": [
    {
     "name": "stdout",
     "output_type": "stream",
     "text": [
      "The string contains the proper sequence.\n"
     ]
    }
   ],
   "source": [
    "def has_proper_sequence(input_string):\n",
    "    # Define the proper sequence you're looking for\n",
    "    proper_sequence = \"abc\"\n",
    "\n",
    "    # Check if the proper sequence is in the input string\n",
    "    if proper_sequence in input_string:\n",
    "        return True\n",
    "    else:\n",
    "        return False\n",
    "\n",
    "# Example usage:\n",
    "input_str = \"abxycabcz\"\n",
    "result = has_proper_sequence(input_str)\n",
    "\n",
    "if result:\n",
    "    print(\"The string contains the proper sequence.\")\n",
    "else:\n",
    "    print(\"The string does not contain the proper sequence.\")\n"
   ]
  },
  {
   "cell_type": "code",
   "execution_count": 11,
   "id": "4643b695",
   "metadata": {},
   "outputs": [
    {
     "name": "stdout",
     "output_type": "stream",
     "text": [
      "Number of 'a's in the repeated string: 7\n"
     ]
    }
   ],
   "source": [
    "def repeated_string(s, n):\n",
    "    # Count 'a' in the original string\n",
    "    a_count_in_s = s.count('a')\n",
    "\n",
    "    # Calculate the number of complete repetitions and the remaining characters\n",
    "    complete_repetitions = n // len(s)\n",
    "    remaining_chars = n % len(s)\n",
    "\n",
    "    # Calculate the total 'a' count\n",
    "    total_a_count = complete_repetitions * a_count_in_s + s[:remaining_chars].count('a')\n",
    "\n",
    "    return total_a_count\n",
    "\n",
    "# Example usage:\n",
    "s = \"aba\"\n",
    "n = 10\n",
    "result = repeated_string(s, n)\n",
    "print(\"Number of 'a's in the repeated string:\", result)\n"
   ]
  },
  {
   "cell_type": "code",
   "execution_count": 12,
   "id": "cbb407b6",
   "metadata": {},
   "outputs": [
    {
     "name": "stdout",
     "output_type": "stream",
     "text": [
      "Collecting PyMuPDF\n",
      "  Downloading PyMuPDF-1.23.3-cp39-none-win_amd64.whl (3.5 MB)\n",
      "     ---------------------------------------- 3.5/3.5 MB 7.6 MB/s eta 0:00:00\n",
      "Collecting PyMuPDFb==1.23.3\n",
      "  Downloading PyMuPDFb-1.23.3-py3-none-win_amd64.whl (24.4 MB)\n",
      "     ---------------------------------------- 24.4/24.4 MB 9.4 MB/s eta 0:00:00\n",
      "Installing collected packages: PyMuPDFb, PyMuPDF\n",
      "Successfully installed PyMuPDF-1.23.3 PyMuPDFb-1.23.3\n",
      "Note: you may need to restart the kernel to use updated packages.\n"
     ]
    }
   ],
   "source": [
    "pip install PyMuPDF"
   ]
  },
  {
   "cell_type": "code",
   "execution_count": 13,
   "id": "669265b9",
   "metadata": {},
   "outputs": [
    {
     "ename": "SyntaxError",
     "evalue": "(unicode error) 'unicodeescape' codec can't decode bytes in position 2-3: truncated \\UXXXXXXXX escape (1143270614.py, line 8)",
     "output_type": "error",
     "traceback": [
      "\u001b[1;36m  File \u001b[1;32m\"C:\\Users\\KOTNI KANAKA RAJU\\AppData\\Local\\Temp\\ipykernel_13952\\1143270614.py\"\u001b[1;36m, line \u001b[1;32m8\u001b[0m\n\u001b[1;33m    pdf_file=\"C:\\Users\\KOTNI KANAKA RAJU\\Downloads\\LeetCode Solution In Java\"\u001b[0m\n\u001b[1;37m                                                                             ^\u001b[0m\n\u001b[1;31mSyntaxError\u001b[0m\u001b[1;31m:\u001b[0m (unicode error) 'unicodeescape' codec can't decode bytes in position 2-3: truncated \\UXXXXXXXX escape\n"
     ]
    }
   ],
   "source": [
    "import fitz\n",
    "def view_pdf(pdf_file):\n",
    "    document=fitz.open(pdf_file)\n",
    "    num=document.page_count\n",
    "    for page_num in range(num):\n",
    "        page=document.load_page(page_num)\n",
    "        pix=page.get_pixmap()\n",
    "pdf_file=\"C:\\Users\\KOTNI KANAKA RAJU\\Downloads\\LeetCode Solution In Java\"\n",
    "view_pdf(pdf_file)"
   ]
  },
  {
   "cell_type": "code",
   "execution_count": 1,
   "id": "c59bb41c",
   "metadata": {},
   "outputs": [
    {
     "name": "stdout",
     "output_type": "stream",
     "text": [
      "3 3\n",
      "2 3 4\n",
      "2 4 6\n",
      "2 4 6\n",
      "17\n"
     ]
    }
   ],
   "source": [
    "# perimeter of matrix\n",
    "\n",
    "row,col=[int(i) for i in input().split()]\n",
    "matrix=[]\n",
    "for _ in range(row):\n",
    "    matrix.append([int(i) for i in input().split()])\n",
    "res=0\n",
    "for i in range(len(matrix)-1):\n",
    "    if i==0 or i==len(matrix)-1:\n",
    "        res+=sum(matrix[i])\n",
    "    else:\n",
    "        res+=matrix[i][0]+matrix[i][-1]\n",
    "        \n",
    "print(res)"
   ]
  },
  {
   "cell_type": "code",
   "execution_count": 10,
   "id": "3c6677fe",
   "metadata": {},
   "outputs": [
    {
     "name": "stdout",
     "output_type": "stream",
     "text": [
      "abc\n",
      "acb\n",
      "YES\n"
     ]
    }
   ],
   "source": [
    "# swap character\n",
    "\n",
    "a,b=list(input()),list(input())\n",
    "\n",
    "for i in range(len(a)-1):\n",
    "    if a[i]!=b[i]:\n",
    "        pre_val=a[i]\n",
    "        a[i]=a[i+1]\n",
    "        a[i+1]=pre_val\n",
    "        \n",
    "print(\"YES\" if a==b else \"NO\")"
   ]
  },
  {
   "cell_type": "code",
   "execution_count": 15,
   "id": "18bbfa3a",
   "metadata": {},
   "outputs": [
    {
     "name": "stdout",
     "output_type": "stream",
     "text": [
      "25678990\n",
      "2\n",
      "1 5\n"
     ]
    },
    {
     "ename": "TypeError",
     "evalue": "list expected at most 1 argument, got 2",
     "output_type": "error",
     "traceback": [
      "\u001b[1;31m---------------------------------------------------------------------------\u001b[0m",
      "\u001b[1;31mTypeError\u001b[0m                                 Traceback (most recent call last)",
      "\u001b[1;32m~\\AppData\\Local\\Temp\\ipykernel_6580\\4236281077.py\u001b[0m in \u001b[0;36m<module>\u001b[1;34m\u001b[0m\n\u001b[0;32m      5\u001b[0m     \u001b[0ms\u001b[0m\u001b[1;33m,\u001b[0m\u001b[0me\u001b[0m\u001b[1;33m=\u001b[0m\u001b[1;33m[\u001b[0m\u001b[0mint\u001b[0m\u001b[1;33m(\u001b[0m\u001b[0mi\u001b[0m\u001b[1;33m)\u001b[0m \u001b[1;32mfor\u001b[0m \u001b[0mi\u001b[0m \u001b[1;32min\u001b[0m \u001b[0minput\u001b[0m\u001b[1;33m(\u001b[0m\u001b[1;33m)\u001b[0m\u001b[1;33m.\u001b[0m\u001b[0msplit\u001b[0m\u001b[1;33m(\u001b[0m\u001b[1;33m)\u001b[0m\u001b[1;33m]\u001b[0m\u001b[1;33m\u001b[0m\u001b[1;33m\u001b[0m\u001b[0m\n\u001b[0;32m      6\u001b[0m     \u001b[1;32mfor\u001b[0m \u001b[0mi\u001b[0m \u001b[1;32min\u001b[0m \u001b[0ml\u001b[0m\u001b[1;33m:\u001b[0m\u001b[1;33m\u001b[0m\u001b[1;33m\u001b[0m\u001b[0m\n\u001b[1;32m----> 7\u001b[1;33m         \u001b[1;32mif\u001b[0m \u001b[0mi\u001b[0m \u001b[1;32min\u001b[0m \u001b[0mlist\u001b[0m\u001b[1;33m(\u001b[0m\u001b[0ms\u001b[0m\u001b[1;33m,\u001b[0m\u001b[0me\u001b[0m\u001b[1;33m+\u001b[0m\u001b[1;36m1\u001b[0m\u001b[1;33m)\u001b[0m\u001b[1;33m:\u001b[0m\u001b[1;33m\u001b[0m\u001b[1;33m\u001b[0m\u001b[0m\n\u001b[0m\u001b[0;32m      8\u001b[0m             \u001b[0mres\u001b[0m\u001b[1;33m+=\u001b[0m\u001b[0mi\u001b[0m\u001b[1;33m\u001b[0m\u001b[1;33m\u001b[0m\u001b[0m\n\u001b[0;32m      9\u001b[0m     \u001b[0mprint\u001b[0m\u001b[1;33m(\u001b[0m\u001b[0mres\u001b[0m\u001b[1;33m)\u001b[0m\u001b[1;33m\u001b[0m\u001b[1;33m\u001b[0m\u001b[0m\n",
      "\u001b[1;31mTypeError\u001b[0m: list expected at most 1 argument, got 2"
     ]
    }
   ],
   "source": [
    "l=[int(i) for i in input().split()]\n",
    "\n",
    "for _ in range(int(input())):\n",
    "    res=0\n",
    "    s,e=[int(i) for i in input().split()]\n",
    "    for i in l:\n",
    "        if i in list(s,e+1):\n",
    "            res+=i\n",
    "    print(res)"
   ]
  },
  {
   "cell_type": "code",
   "execution_count": 18,
   "id": "cda46e03",
   "metadata": {},
   "outputs": [
    {
     "name": "stdout",
     "output_type": "stream",
     "text": [
      "637738 883739\n",
      "Hard\n"
     ]
    }
   ],
   "source": [
    "f,s=input().split()\n",
    "f=f[::-1]\n",
    "s=s[::-1]\n",
    "result=True\n",
    "for i in zip(f,s):\n",
    "    if len(i[0]+i[1])>1:\n",
    "        result=False\n",
    "print(\"Easy\" if result else \"Hard\")"
   ]
  },
  {
   "cell_type": "code",
   "execution_count": 22,
   "id": "ed6ad118",
   "metadata": {},
   "outputs": [
    {
     "name": "stdout",
     "output_type": "stream",
     "text": [
      "7788899\n",
      "4\n",
      "\n",
      "\n"
     ]
    }
   ],
   "source": [
    "l=[int(i) for i in input().split(\",\")]\n",
    "s=int(input())\n",
    "print(*l[s:])\n",
    "print(*l[:-s])"
   ]
  },
  {
   "cell_type": "code",
   "execution_count": null,
   "id": "f5ca666b",
   "metadata": {},
   "outputs": [],
   "source": [
    "def calculate_nim_sum(piles):\n",
    "    nim_sum=0\n",
    "    for pile in piles:\n",
    "        nim_sum ^=pile\n",
    "    return nim_sum\n",
    "\n",
    "def nim_sum(piles):\n",
    "    nim_sum=calculate_nim_sum(piles)\n",
    "    if nim_sum==0:\n",
    "        return \"second player wins\"\n",
    "    else:\n",
    "        return \"first player wins\"\n",
    "        "
   ]
  },
  {
   "cell_type": "code",
   "execution_count": 2,
   "id": "1c684efb",
   "metadata": {},
   "outputs": [
    {
     "name": "stdout",
     "output_type": "stream",
     "text": [
      "[0, 0, 1, 2, 1, 2, 0, 3, 0, 1]\n"
     ]
    }
   ],
   "source": [
    "def calculate_grundy(target):\n",
    "    grundy=[0]*(target+1)\n",
    "    \n",
    "    for i in range(2,target+1):\n",
    "        next_moves=set()\n",
    "        \n",
    "        for move in [1,3,4]:\n",
    "            if i-move>=0:\n",
    "                next_moves.add(grundy[i-move])\n",
    "        grundy[i]=mex(next_moves)\n",
    "    return grundy\n",
    "\n",
    "def mex(s):\n",
    "    i=0\n",
    "    while i in s:\n",
    "        i+=1\n",
    "    return i\n",
    "target=9\n",
    "res=calculate_grundy(target)\n",
    "print(res)"
   ]
  },
  {
   "cell_type": "code",
   "execution_count": 3,
   "id": "33046cf7",
   "metadata": {},
   "outputs": [
    {
     "name": "stdout",
     "output_type": "stream",
     "text": [
      "Second player wins\n"
     ]
    }
   ],
   "source": [
    "def calculate_grundy(piles):\n",
    "    grundy_values = [0] * len(piles)\n",
    "    \n",
    "    for pile in range(len(piles)):\n",
    "        next_moves = set()\n",
    "        \n",
    "        # Generate all possible next moves from the current pile\n",
    "        for stones_removed in range(1, piles[pile] + 1):\n",
    "            next_pile = list(piles)\n",
    "            next_pile[pile] -= stones_removed\n",
    "            next_pile.sort()\n",
    "            next_moves.add(tuple(next_pile))\n",
    "        \n",
    "        # Calculate the Grundy number for the current pile\n",
    "        grundy = 0\n",
    "        while grundy in next_moves:\n",
    "            grundy += 1\n",
    "        \n",
    "        grundy_values[pile] = grundy\n",
    "    \n",
    "    # Calculate the XOR of all Grundy numbers\n",
    "    xor_result = 0\n",
    "    for grundy in grundy_values:\n",
    "        xor_result ^= grundy\n",
    "    \n",
    "    if xor_result == 0:\n",
    "        return \"Second player wins\"\n",
    "    else:\n",
    "        return \"First player wins\"\n",
    "\n",
    "# Example usage\n",
    "piles = [3, 4, 5]\n",
    "result = calculate_grundy(piles)\n",
    "print(result)\n"
   ]
  },
  {
   "cell_type": "code",
   "execution_count": null,
   "id": "7e22a0be",
   "metadata": {},
   "outputs": [],
   "source": []
  }
 ],
 "metadata": {
  "kernelspec": {
   "display_name": "Python 3 (ipykernel)",
   "language": "python",
   "name": "python3"
  },
  "language_info": {
   "codemirror_mode": {
    "name": "ipython",
    "version": 3
   },
   "file_extension": ".py",
   "mimetype": "text/x-python",
   "name": "python",
   "nbconvert_exporter": "python",
   "pygments_lexer": "ipython3",
   "version": "3.9.13"
  }
 },
 "nbformat": 4,
 "nbformat_minor": 5
}
