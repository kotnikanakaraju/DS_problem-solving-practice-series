{
 "cells": [
  {
   "cell_type": "code",
   "execution_count": 1,
   "id": "f08f38e2",
   "metadata": {},
   "outputs": [
    {
     "name": "stdout",
     "output_type": "stream",
     "text": [
      "15\n"
     ]
    }
   ],
   "source": [
    "class TreeNode:\n",
    "    def __init__(self,val=0,left=None,right=None):\n",
    "        self.val=val\n",
    "        self.right=right\n",
    "        self.left=left\n",
    "        \n",
    "def findsum(root):\n",
    "    if root is None:\n",
    "        return 0\n",
    "    \n",
    "    left_sum=findsum(root.left)\n",
    "    right_sum=findsum(root.right)\n",
    "    \n",
    "    return root.val+left_sum+right_sum\n",
    "root=TreeNode(1)\n",
    "root.left=TreeNode(2)\n",
    "root.right=TreeNode(3)\n",
    "root.left.left=TreeNode(4)\n",
    "root.left.right=TreeNode(5)\n",
    "res=findsum(root)\n",
    "print(res)"
   ]
  },
  {
   "cell_type": "code",
   "execution_count": 6,
   "id": "c2ea4fa8",
   "metadata": {},
   "outputs": [
    {
     "name": "stdout",
     "output_type": "stream",
     "text": [
      "[<__main__.TreeNode object at 0x000002889AF42DC0>]\n"
     ]
    }
   ],
   "source": [
    "\n",
    "class TreeNode:\n",
    "    def __init__(self,val=0,left=None,right=None):\n",
    "        self.val=val\n",
    "        self.right=right\n",
    "        self.left=left\n",
    "\n",
    "def leftview(root):\n",
    "    if root is None:\n",
    "        return root\n",
    "    res=[]\n",
    "    queue=[]\n",
    "    queue.append(root)\n",
    "    while queue and queue!=None:\n",
    "        left=queue.pop()\n",
    "        res.append(left)\n",
    "        if res:\n",
    "            leftview(root.left)\n",
    "    return res\n",
    "\n",
    "root=TreeNode(1)\n",
    "root.left=TreeNode(2)\n",
    "root.right=TreeNode(3)\n",
    "root.left.left=TreeNode(4)\n",
    "root.left.right=TreeNode(5)\n",
    "print(leftview(root))"
   ]
  },
  {
   "cell_type": "code",
   "execution_count": 7,
   "id": "546e1337",
   "metadata": {},
   "outputs": [
    {
     "data": {
      "text/plain": [
       "3"
      ]
     },
     "execution_count": 7,
     "metadata": {},
     "output_type": "execute_result"
    }
   ],
   "source": [
    "class TreeNode:\n",
    "    def __init__(self,val=0,left=None,right=None):\n",
    "        self.val=val\n",
    "        self.right=right\n",
    "        self.left=left\n",
    "        \n",
    "def findheight(node):\n",
    "    if node is None:\n",
    "        return 0\n",
    "    \n",
    "    left_height=findheight(node.left)\n",
    "    right_height=findheight(node.right)\n",
    "    return max(left_height,right_height)+1\n",
    "root=TreeNode(1)\n",
    "root.left=TreeNode(2)\n",
    "root.right=TreeNode(3)\n",
    "root.left.left=TreeNode(4)\n",
    "root.left.right=TreeNode(5)\n",
    "findheight(root)\n"
   ]
  },
  {
   "cell_type": "code",
   "execution_count": 12,
   "id": "418d6005",
   "metadata": {},
   "outputs": [
    {
     "name": "stdout",
     "output_type": "stream",
     "text": [
      "4\n",
      "2\n",
      "5\n",
      "1\n",
      "3\n",
      "1\n",
      "2\n",
      "4\n",
      "5\n",
      "3\n",
      "3\n",
      "1\n",
      "5\n",
      "2\n",
      "4\n"
     ]
    }
   ],
   "source": [
    "class TreeNode:\n",
    "    def __init__(self,val=0,left=None,right=None):\n",
    "        self.val=val\n",
    "        self.right=right\n",
    "        self.left=left\n",
    "        \n",
    "def inorder(root):\n",
    "    if root:\n",
    "        inorder(root.left)\n",
    "        print(root.val)\n",
    "        inorder(root.right)\n",
    "        \n",
    "def preorder(root):\n",
    "    if root:\n",
    "        print(root.val)\n",
    "        preorder(root.left)\n",
    "        preorder(root.right)\n",
    "        \n",
    "def postorder(root):\n",
    "    if root:\n",
    "        postorder(root.right)\n",
    "        print(root.val)\n",
    "        postorder(root.left)\n",
    "#     return root\n",
    "root=TreeNode(1)\n",
    "root.left=TreeNode(2)\n",
    "root.right=TreeNode(3)\n",
    "root.left.left=TreeNode(4)\n",
    "root.left.right=TreeNode(5)\n",
    "inorder(root)\n",
    "preorder(root)\n",
    "postorder(root)"
   ]
  },
  {
   "cell_type": "code",
   "execution_count": 16,
   "id": "dd6c8619",
   "metadata": {},
   "outputs": [
    {
     "data": {
      "text/plain": [
       "<__main__.TreeNode at 0x2889b333c40>"
      ]
     },
     "execution_count": 16,
     "metadata": {},
     "output_type": "execute_result"
    }
   ],
   "source": [
    "def findheight(node):\n",
    "    if node is None:\n",
    "        return 0\n",
    "    \n",
    "    left_height=findheight(node.left)\n",
    "    right_height=findheight(node.right)\n",
    "    return max(left_height,right_height)+1\n",
    "def isbalenced(root):\n",
    "    if not root:\n",
    "        return True\n",
    "    \n",
    "    left=findheight(root.left)\n",
    "    right=findheight(root.right)\n",
    "    return abs(left-right)<=1 and isbalenced(root.left) and isbalenced(root.right)\n",
    "\n",
    "root=TreeNode(1)\n",
    "root.left=TreeNode(2)\n",
    "root.right=TreeNode(3)\n",
    "root.left.left=TreeNode(4)\n",
    "root.left.right=TreeNode(5)\n",
    "TreeNode(isbalenced(root))\n"
   ]
  },
  {
   "cell_type": "code",
   "execution_count": null,
   "id": "f9e264f8",
   "metadata": {},
   "outputs": [],
   "source": [
    "def treedia(root):\n",
    "    def helper(node):\n",
    "        if not node:\n",
    "            return 0,0\n",
    "        \n",
    "        left_h,left_d=helper(root.left)\n",
    "        right_h,right_d=helper(root.right)\n",
    "        h=max(left_h,right_h)+1\n",
    "        d=max(left_d,right_d,left_h+right_h)\n",
    "        \n",
    "        return h,d\n",
    "    _ , d=helper(root)\n",
    "    return d\n",
    "root=TreeNode(1)\n",
    "root.left=TreeNode(2)\n",
    "root.right=TreeNode(3)\n",
    "root.left.left=TreeNode(4)\n",
    "root.left.right=TreeNode(5)\n",
    "treedia(root)"
   ]
  },
  {
   "cell_type": "code",
   "execution_count": null,
   "id": "028954b5",
   "metadata": {},
   "outputs": [],
   "source": []
  },
  {
   "cell_type": "code",
   "execution_count": 24,
   "id": "3770717a",
   "metadata": {},
   "outputs": [],
   "source": [
    "def tree_diameter(root):\n",
    "    def diameter_helper(node):\n",
    "        if not node:\n",
    "            return 0, 0  # Height, Diameter\n",
    "        left_height, left_diameter = diameter_helper(node.left)\n",
    "        right_height, right_diameter = diameter_helper(node.right)\n",
    "        height = max(left_height, right_height) + 1\n",
    "        diameter = max(left_diameter, right_diameter, left_height + right_height)\n",
    "        return height, diameter\n",
    "\n",
    "    _, diameter = diameter_helper(root)\n",
    "    return diameter\n"
   ]
  },
  {
   "cell_type": "code",
   "execution_count": 1,
   "id": "66339d88",
   "metadata": {},
   "outputs": [],
   "source": [
    "def find_lca(root,node1,node2):\n",
    "    if not root:\n",
    "        return None\n",
    "    if root.val==node1.val or root.val==node2.val:\n",
    "        return root\n",
    "    \n",
    "    left_lca=find_lca(root.left,node1,node2)\n",
    "    right_lca=find_lca(root.right,node1,node2)\n",
    "    \n",
    "    if left_lca and right_lca:\n",
    "        return root\n",
    "    return left_lca if left_lca else right_lca\n",
    "    "
   ]
  },
  {
   "cell_type": "code",
   "execution_count": 4,
   "id": "ce5eface",
   "metadata": {},
   "outputs": [
    {
     "name": "stdout",
     "output_type": "stream",
     "text": [
      "2013"
     ]
    }
   ],
   "source": [
    "class Graph:\n",
    "    def __init__(self):\n",
    "        self.graph={}\n",
    "        \n",
    "    def add_edge(self,u,v):\n",
    "        if u in self.graph:\n",
    "            self.graph[u].append(v)\n",
    "        else:\n",
    "            self.graph[u]=[v]\n",
    "            \n",
    "    def dfs(self,node,visited=set()):\n",
    "        if node not in visited:\n",
    "            print(node,end=\"\")\n",
    "            visited.add(node)\n",
    "            if node in self.graph:\n",
    "                for neighbour in self.graph[node]:\n",
    "                    self.dfs(neighbour,visited)\n",
    "g = Graph()\n",
    "g.add_edge(0, 1)\n",
    "g.add_edge(0, 2)\n",
    "g.add_edge(1, 2)\n",
    "g.add_edge(2, 0)\n",
    "g.add_edge(2, 3)\n",
    "g.add_edge(3, 3)\n",
    "\n",
    "g.dfs(2)"
   ]
  },
  {
   "cell_type": "code",
   "execution_count": null,
   "id": "062c4307",
   "metadata": {},
   "outputs": [
    {
     "name": "stdout",
     "output_type": "stream",
     "text": [
      "<built-in method pop of list object at 0x000002596A629A80>"
     ]
    }
   ],
   "source": [
    "class Graph:\n",
    "    def __init__(self):\n",
    "        self.graph={}\n",
    "        \n",
    "    def add_edge(self,u,v):\n",
    "        if u in self.graph:\n",
    "            self.graph[u].append(v)\n",
    "        else:\n",
    "            self.graph[u]=[v]\n",
    "    def dfs(self,start):\n",
    "        visited=set()\n",
    "        stack=[start]\n",
    "        while stack:\n",
    "            node=stack.pop\n",
    "            if node not in visited:\n",
    "                print(node,end=\"\")\n",
    "            visited.add(node)\n",
    "            if node in self.graph:\n",
    "                if neighbout in self.graph[node]:\n",
    "                    stack.append(neighbout)\n",
    "g = Graph()\n",
    "g.add_edge(0, 1)\n",
    "g.add_edge(0, 2)\n",
    "g.add_edge(1, 2)\n",
    "g.add_edge(2, 0)\n",
    "g.add_edge(2, 3)\n",
    "g.add_edge(3, 3)\n",
    "g.dfs(3)"
   ]
  },
  {
   "cell_type": "code",
   "execution_count": 4,
   "id": "f7db71ed",
   "metadata": {},
   "outputs": [
    {
     "name": "stdout",
     "output_type": "stream",
     "text": [
      "BADECF"
     ]
    }
   ],
   "source": [
    "graph = {\n",
    "    'A': ['B', 'C'],\n",
    "    'B': ['A', 'D', 'E'],\n",
    "    'C': ['A', 'F'],\n",
    "    'D': ['B'],\n",
    "    'E': ['B', 'F'],\n",
    "    'F': ['C', 'E']\n",
    "}\n",
    "\n",
    "def bfs(graph,start,visited=None):\n",
    "    if visited is None:\n",
    "        visited=set()\n",
    "        \n",
    "    stack=[start]\n",
    "    \n",
    "    while stack:\n",
    "        vertex=stack.pop(0)\n",
    "        if vertex not in visited:\n",
    "            print(vertex,end=\"\")\n",
    "            visited.add(vertex)\n",
    "            stack.extend(neighbour for neighbour in graph[vertex]if neighbour not in visited)\n",
    "            \n",
    "bfs(graph,'B')"
   ]
  },
  {
   "cell_type": "code",
   "execution_count": 7,
   "id": "bf7f7c31",
   "metadata": {},
   "outputs": [
    {
     "name": "stdout",
     "output_type": "stream",
     "text": [
      "ABCDEF"
     ]
    }
   ],
   "source": [
    "class Node:\n",
    "    def __init__(self,data):\n",
    "        self.data=data\n",
    "        self.children=[]\n",
    "        \n",
    "def bfs(root):\n",
    "    if not root:\n",
    "        return \n",
    "    queue=[root]\n",
    "#     res=[]\n",
    "#     queue.append(root)\n",
    "#     while queue:\n",
    "#         node=queue.pop()\n",
    "#         print(node,end=\"\")\n",
    "#         res.append(node)\n",
    "#         for child in node_child:\n",
    "#             res.append(child)\n",
    "#     return res\n",
    "\n",
    "    while queue:\n",
    "        node=queue.pop(0)\n",
    "        print(node.data,end='')\n",
    "        for child in node.children:\n",
    "            queue.append(child)\n",
    "            \n",
    "root = Node('A')\n",
    "root.children = [Node('B'), Node('C')]\n",
    "root.children[0].children = [Node('D'), Node('E')]\n",
    "root.children[1].children = [Node('F')]\n",
    "bfs(root)"
   ]
  },
  {
   "cell_type": "code",
   "execution_count": 10,
   "id": "102f29fb",
   "metadata": {},
   "outputs": [
    {
     "ename": "TypeError",
     "evalue": "'float' object is not iterable",
     "output_type": "error",
     "traceback": [
      "\u001b[1;31m---------------------------------------------------------------------------\u001b[0m",
      "\u001b[1;31mTypeError\u001b[0m                                 Traceback (most recent call last)",
      "\u001b[1;32m~\\AppData\\Local\\Temp\\ipykernel_468\\2052382450.py\u001b[0m in \u001b[0;36m<module>\u001b[1;34m\u001b[0m\n\u001b[0;32m     47\u001b[0m \u001b[0marr\u001b[0m\u001b[1;33m=\u001b[0m\u001b[1;33m[\u001b[0m\u001b[1;36m1\u001b[0m\u001b[1;33m,\u001b[0m\u001b[1;36m3\u001b[0m\u001b[1;33m,\u001b[0m\u001b[1;36m2\u001b[0m\u001b[1;33m,\u001b[0m\u001b[1;36m7\u001b[0m\u001b[1;33m,\u001b[0m\u001b[1;36m9\u001b[0m\u001b[1;33m,\u001b[0m\u001b[1;36m11\u001b[0m\u001b[1;33m]\u001b[0m\u001b[1;33m\u001b[0m\u001b[1;33m\u001b[0m\u001b[0m\n\u001b[0;32m     48\u001b[0m \u001b[0mseg_tree\u001b[0m\u001b[1;33m=\u001b[0m\u001b[0mSegmentTree\u001b[0m\u001b[1;33m(\u001b[0m\u001b[0marr\u001b[0m\u001b[1;33m)\u001b[0m\u001b[1;33m\u001b[0m\u001b[1;33m\u001b[0m\u001b[0m\n\u001b[1;32m---> 49\u001b[1;33m \u001b[0mprint\u001b[0m\u001b[1;33m(\u001b[0m\u001b[0mseg_tree\u001b[0m\u001b[1;33m.\u001b[0m\u001b[0mrange_query\u001b[0m\u001b[1;33m(\u001b[0m\u001b[1;36m1\u001b[0m\u001b[1;33m,\u001b[0m\u001b[1;36m4\u001b[0m\u001b[1;33m)\u001b[0m\u001b[1;33m)\u001b[0m\u001b[1;33m\u001b[0m\u001b[1;33m\u001b[0m\u001b[0m\n\u001b[0m\u001b[0;32m     50\u001b[0m \u001b[1;33m\u001b[0m\u001b[0m\n",
      "\u001b[1;32m~\\AppData\\Local\\Temp\\ipykernel_468\\2052382450.py\u001b[0m in \u001b[0;36mrange_query\u001b[1;34m(self, q_left, q_right)\u001b[0m\n\u001b[0;32m     43\u001b[0m \u001b[1;33m\u001b[0m\u001b[0m\n\u001b[0;32m     44\u001b[0m     \u001b[1;32mdef\u001b[0m \u001b[0mrange_query\u001b[0m\u001b[1;33m(\u001b[0m\u001b[0mself\u001b[0m\u001b[1;33m,\u001b[0m\u001b[0mq_left\u001b[0m\u001b[1;33m,\u001b[0m\u001b[0mq_right\u001b[0m\u001b[1;33m)\u001b[0m\u001b[1;33m:\u001b[0m\u001b[1;33m\u001b[0m\u001b[1;33m\u001b[0m\u001b[0m\n\u001b[1;32m---> 45\u001b[1;33m         \u001b[1;32mreturn\u001b[0m \u001b[0mself\u001b[0m\u001b[1;33m.\u001b[0m\u001b[0mquery\u001b[0m\u001b[1;33m(\u001b[0m\u001b[1;36m1\u001b[0m\u001b[1;33m,\u001b[0m\u001b[1;36m0\u001b[0m\u001b[1;33m,\u001b[0m\u001b[0mlen\u001b[0m\u001b[1;33m(\u001b[0m\u001b[0mself\u001b[0m\u001b[1;33m.\u001b[0m\u001b[0marr\u001b[0m\u001b[1;33m)\u001b[0m\u001b[1;33m-\u001b[0m\u001b[1;36m1\u001b[0m\u001b[1;33m,\u001b[0m\u001b[0mq_left\u001b[0m\u001b[1;33m,\u001b[0m\u001b[0mq_right\u001b[0m\u001b[1;33m)\u001b[0m\u001b[1;33m\u001b[0m\u001b[1;33m\u001b[0m\u001b[0m\n\u001b[0m\u001b[0;32m     46\u001b[0m \u001b[1;33m\u001b[0m\u001b[0m\n\u001b[0;32m     47\u001b[0m \u001b[0marr\u001b[0m\u001b[1;33m=\u001b[0m\u001b[1;33m[\u001b[0m\u001b[1;36m1\u001b[0m\u001b[1;33m,\u001b[0m\u001b[1;36m3\u001b[0m\u001b[1;33m,\u001b[0m\u001b[1;36m2\u001b[0m\u001b[1;33m,\u001b[0m\u001b[1;36m7\u001b[0m\u001b[1;33m,\u001b[0m\u001b[1;36m9\u001b[0m\u001b[1;33m,\u001b[0m\u001b[1;36m11\u001b[0m\u001b[1;33m]\u001b[0m\u001b[1;33m\u001b[0m\u001b[1;33m\u001b[0m\u001b[0m\n",
      "\u001b[1;32m~\\AppData\\Local\\Temp\\ipykernel_468\\2052382450.py\u001b[0m in \u001b[0;36mquery\u001b[1;34m(self, node, left, right, q_left, q_right)\u001b[0m\n\u001b[0;32m     23\u001b[0m \u001b[1;33m\u001b[0m\u001b[0m\n\u001b[0;32m     24\u001b[0m         \u001b[0mmid\u001b[0m\u001b[1;33m=\u001b[0m\u001b[1;33m(\u001b[0m\u001b[0mleft\u001b[0m\u001b[1;33m+\u001b[0m\u001b[0mright\u001b[0m\u001b[1;33m)\u001b[0m\u001b[1;33m//\u001b[0m\u001b[1;36m2\u001b[0m\u001b[1;33m\u001b[0m\u001b[1;33m\u001b[0m\u001b[0m\n\u001b[1;32m---> 25\u001b[1;33m         \u001b[0mleft\u001b[0m\u001b[1;33m=\u001b[0m\u001b[0mself\u001b[0m\u001b[1;33m.\u001b[0m\u001b[0mquery\u001b[0m\u001b[1;33m(\u001b[0m\u001b[1;36m2\u001b[0m\u001b[1;33m*\u001b[0m\u001b[0mnode\u001b[0m\u001b[1;33m,\u001b[0m\u001b[0mleft\u001b[0m\u001b[1;33m,\u001b[0m\u001b[0mmid\u001b[0m\u001b[1;33m,\u001b[0m\u001b[0mq_left\u001b[0m\u001b[1;33m,\u001b[0m\u001b[0mq_right\u001b[0m\u001b[1;33m)\u001b[0m\u001b[1;33m\u001b[0m\u001b[1;33m\u001b[0m\u001b[0m\n\u001b[0m\u001b[0;32m     26\u001b[0m         \u001b[0mright\u001b[0m\u001b[1;33m=\u001b[0m\u001b[0mself\u001b[0m\u001b[1;33m.\u001b[0m\u001b[0mquery\u001b[0m\u001b[1;33m(\u001b[0m\u001b[1;36m2\u001b[0m\u001b[1;33m*\u001b[0m\u001b[0mnode\u001b[0m\u001b[1;33m+\u001b[0m\u001b[1;36m1\u001b[0m\u001b[1;33m,\u001b[0m\u001b[0mleft\u001b[0m\u001b[1;33m+\u001b[0m\u001b[1;36m1\u001b[0m\u001b[1;33m,\u001b[0m\u001b[0mmid\u001b[0m\u001b[1;33m+\u001b[0m\u001b[1;36m1\u001b[0m\u001b[1;33m,\u001b[0m\u001b[0mright\u001b[0m\u001b[1;33m,\u001b[0m\u001b[0mq_left\u001b[0m\u001b[1;33m)\u001b[0m\u001b[1;33m\u001b[0m\u001b[1;33m\u001b[0m\u001b[0m\n\u001b[0;32m     27\u001b[0m \u001b[1;33m\u001b[0m\u001b[0m\n",
      "\u001b[1;32m~\\AppData\\Local\\Temp\\ipykernel_468\\2052382450.py\u001b[0m in \u001b[0;36mquery\u001b[1;34m(self, node, left, right, q_left, q_right)\u001b[0m\n\u001b[0;32m     23\u001b[0m \u001b[1;33m\u001b[0m\u001b[0m\n\u001b[0;32m     24\u001b[0m         \u001b[0mmid\u001b[0m\u001b[1;33m=\u001b[0m\u001b[1;33m(\u001b[0m\u001b[0mleft\u001b[0m\u001b[1;33m+\u001b[0m\u001b[0mright\u001b[0m\u001b[1;33m)\u001b[0m\u001b[1;33m//\u001b[0m\u001b[1;36m2\u001b[0m\u001b[1;33m\u001b[0m\u001b[1;33m\u001b[0m\u001b[0m\n\u001b[1;32m---> 25\u001b[1;33m         \u001b[0mleft\u001b[0m\u001b[1;33m=\u001b[0m\u001b[0mself\u001b[0m\u001b[1;33m.\u001b[0m\u001b[0mquery\u001b[0m\u001b[1;33m(\u001b[0m\u001b[1;36m2\u001b[0m\u001b[1;33m*\u001b[0m\u001b[0mnode\u001b[0m\u001b[1;33m,\u001b[0m\u001b[0mleft\u001b[0m\u001b[1;33m,\u001b[0m\u001b[0mmid\u001b[0m\u001b[1;33m,\u001b[0m\u001b[0mq_left\u001b[0m\u001b[1;33m,\u001b[0m\u001b[0mq_right\u001b[0m\u001b[1;33m)\u001b[0m\u001b[1;33m\u001b[0m\u001b[1;33m\u001b[0m\u001b[0m\n\u001b[0m\u001b[0;32m     26\u001b[0m         \u001b[0mright\u001b[0m\u001b[1;33m=\u001b[0m\u001b[0mself\u001b[0m\u001b[1;33m.\u001b[0m\u001b[0mquery\u001b[0m\u001b[1;33m(\u001b[0m\u001b[1;36m2\u001b[0m\u001b[1;33m*\u001b[0m\u001b[0mnode\u001b[0m\u001b[1;33m+\u001b[0m\u001b[1;36m1\u001b[0m\u001b[1;33m,\u001b[0m\u001b[0mleft\u001b[0m\u001b[1;33m+\u001b[0m\u001b[1;36m1\u001b[0m\u001b[1;33m,\u001b[0m\u001b[0mmid\u001b[0m\u001b[1;33m+\u001b[0m\u001b[1;36m1\u001b[0m\u001b[1;33m,\u001b[0m\u001b[0mright\u001b[0m\u001b[1;33m,\u001b[0m\u001b[0mq_left\u001b[0m\u001b[1;33m)\u001b[0m\u001b[1;33m\u001b[0m\u001b[1;33m\u001b[0m\u001b[0m\n\u001b[0;32m     27\u001b[0m \u001b[1;33m\u001b[0m\u001b[0m\n",
      "\u001b[1;32m~\\AppData\\Local\\Temp\\ipykernel_468\\2052382450.py\u001b[0m in \u001b[0;36mquery\u001b[1;34m(self, node, left, right, q_left, q_right)\u001b[0m\n\u001b[0;32m     26\u001b[0m         \u001b[0mright\u001b[0m\u001b[1;33m=\u001b[0m\u001b[0mself\u001b[0m\u001b[1;33m.\u001b[0m\u001b[0mquery\u001b[0m\u001b[1;33m(\u001b[0m\u001b[1;36m2\u001b[0m\u001b[1;33m*\u001b[0m\u001b[0mnode\u001b[0m\u001b[1;33m+\u001b[0m\u001b[1;36m1\u001b[0m\u001b[1;33m,\u001b[0m\u001b[0mleft\u001b[0m\u001b[1;33m+\u001b[0m\u001b[1;36m1\u001b[0m\u001b[1;33m,\u001b[0m\u001b[0mmid\u001b[0m\u001b[1;33m+\u001b[0m\u001b[1;36m1\u001b[0m\u001b[1;33m,\u001b[0m\u001b[0mright\u001b[0m\u001b[1;33m,\u001b[0m\u001b[0mq_left\u001b[0m\u001b[1;33m)\u001b[0m\u001b[1;33m\u001b[0m\u001b[1;33m\u001b[0m\u001b[0m\n\u001b[0;32m     27\u001b[0m \u001b[1;33m\u001b[0m\u001b[0m\n\u001b[1;32m---> 28\u001b[1;33m         \u001b[1;32mreturn\u001b[0m \u001b[0mmin\u001b[0m\u001b[1;33m(\u001b[0m\u001b[0mleft\u001b[0m\u001b[1;33m+\u001b[0m\u001b[0mright\u001b[0m\u001b[1;33m)\u001b[0m\u001b[1;33m\u001b[0m\u001b[1;33m\u001b[0m\u001b[0m\n\u001b[0m\u001b[0;32m     29\u001b[0m \u001b[1;33m\u001b[0m\u001b[0m\n\u001b[0;32m     30\u001b[0m     \u001b[1;32mdef\u001b[0m \u001b[0mupdate\u001b[0m\u001b[1;33m(\u001b[0m\u001b[0mself\u001b[0m\u001b[1;33m,\u001b[0m\u001b[0mnode\u001b[0m\u001b[1;33m,\u001b[0m\u001b[0mleft\u001b[0m\u001b[1;33m,\u001b[0m\u001b[0mright\u001b[0m\u001b[1;33m,\u001b[0m\u001b[0mindex\u001b[0m\u001b[1;33m,\u001b[0m\u001b[0mnew_value\u001b[0m\u001b[1;33m)\u001b[0m\u001b[1;33m:\u001b[0m\u001b[1;33m\u001b[0m\u001b[1;33m\u001b[0m\u001b[0m\n",
      "\u001b[1;31mTypeError\u001b[0m: 'float' object is not iterable"
     ]
    }
   ],
   "source": [
    "class SegmentTree:\n",
    "    def __init__(self,arr):\n",
    "        self.arr=arr\n",
    "        self.tree=[0]*(4*len(arr))\n",
    "        self.build(1,0,len(arr)-1)\n",
    "        \n",
    "    def build(self,node,left,right):\n",
    "        if left==right:\n",
    "            self.tree[node]=self.arr[left]\n",
    "            return\n",
    "        \n",
    "        mid=(left+right)//2\n",
    "        self.build(2*node,left,mid)\n",
    "        self.build(2*node+1,mid+1,right)\n",
    "        self.tree[node]=min(self.tree[2*node],self.tree[2*node+1])\n",
    "    \n",
    "    def query(self,node,left,right,q_left,q_right):\n",
    "        if q_left<=left and q_right<=right:\n",
    "            return self.tree[node]\n",
    "        \n",
    "        if q_right<left or right<q_left:\n",
    "            return float('inf')\n",
    "        \n",
    "        mid=(left+right)//2\n",
    "        left=self.query(2*node,left,mid,q_left,q_right)\n",
    "        right=self.query(2*node+1,left+1,mid+1,right,q_left)\n",
    "        \n",
    "        return min(left+right)\n",
    "    \n",
    "    def update(self,node,left,right,index,new_value):\n",
    "        if left==right:\n",
    "            self.arr[index]=new_value\n",
    "            self.tree[node]=new_value\n",
    "            return \n",
    "        \n",
    "        mid=(left+right)//2\n",
    "        if index<=mid:\n",
    "            self.update(2*node,left,mid,index,new_value)\n",
    "        else:\n",
    "            self.update(2*node+1,mid+1,right,index,new_value)\n",
    "        self.tree[node]=min(self.tree[2*node],self.tree[2*node+1])\n",
    "        \n",
    "        \n",
    "    def range_query(self,q_left,q_right):\n",
    "        return self.query(1,0,len(self.arr)-1,q_left,q_right)\n",
    "    \n",
    "arr=[1,3,2,7,9,11]\n",
    "seg_tree=SegmentTree(arr)\n",
    "print(seg_tree.range_query(1,4))\n",
    "            "
   ]
  },
  {
   "cell_type": "code",
   "execution_count": null,
   "id": "a7097822",
   "metadata": {},
   "outputs": [],
   "source": [
    "class SegmentTree:\n",
    "    def __init__(self,arr):\n",
    "        self.arr=arr\n",
    "        self.tree=[0]*(4*len(arr))\n",
    "        self.build(0,0,len(arr)-1)\n",
    "        \n",
    "    def build(self,node,start,end):\n",
    "        if start==end:\n",
    "            self.tree[node]=self.arr[start]\n",
    "        \n",
    "        else:\n",
    "            mid=(start+end)//2\n",
    "            left_child=2*node+1\n",
    "            right_child=2*node+2\n",
    "            \n",
    "            #recursively build left and ight subttrees\n",
    "            self.build(left_child,start,end)\n",
    "            self.build(right_child,mid+1,end)\n",
    "            \n",
    "#             combine res of left and right substree\n",
    "            self.tree[node]=min(self.tree[left_child],self.tree[right_child])\n",
    "    \n",
    "    def query(self,node,start,end,left,right):\n",
    "        if left>end or right<start:\n",
    "            return float('inf')\n",
    "        if left<=start and right>=end:\n",
    "            return self.tree[node]\n",
    "        \n",
    "        mid=(start+end)//2\n",
    "        left_child=2*node+1\n",
    "        right_child=2*node+2\n",
    "        \n",
    "        left_min=self.query(left_child,start,mid,left,right)\n",
    "        rgiht_min=self.query(right_child,mid+1,end,left,right)\n",
    "        return min(left_min,right_min)\n",
    "    \n",
    "    def range_query(self,left,right):\n",
    "        return self.range_query(0,0,len(self.arr)-1,left,right)\n",
    "    \n",
    "arr=[1,3,2,7,9,11]\n"
   ]
  },
  {
   "cell_type": "code",
   "execution_count": 3,
   "id": "06792ea1",
   "metadata": {},
   "outputs": [
    {
     "name": "stdout",
     "output_type": "stream",
     "text": [
      "84\n",
      "10\n"
     ]
    }
   ],
   "source": [
    "class TreeNode:\n",
    "    def __init__(self,value):\n",
    "        self.value=value\n",
    "        self.left=None\n",
    "        self.right=None\n",
    "        \n",
    "def fhhd(root):\n",
    "    if not root:\n",
    "        return 0,None\n",
    "    \n",
    "    left_weight,left_subtree=fhhd(root.left)\n",
    "    right_weight,right_subtree=fhhd(root.right)\n",
    "    \n",
    "    curr_weight=left_weight+right_weight+root.value\n",
    "    \n",
    "    if left_weight>=right_weight and left_weight>=curr_weight:\n",
    "        return left_weight,left_subtree\n",
    "    elif right_weight>=left_weight and right_weight>=curr_weight:\n",
    "        return right_weight,right_subtree\n",
    "    else:\n",
    "        return curr_weight,root\n",
    "    \n",
    "root = TreeNode(10)\n",
    "root.left = TreeNode(5)\n",
    "root.right = TreeNode(20)\n",
    "root.left.left = TreeNode(1)\n",
    "root.left.right = TreeNode(8)\n",
    "root.right.left = TreeNode(15)\n",
    "root.right.right = TreeNode(25)\n",
    "\n",
    "max_weight,heaviest_subtree=fhhd(root)\n",
    "print(max_weight)\n",
    "print(heaviest_subtree.value)"
   ]
  },
  {
   "cell_type": "code",
   "execution_count": 4,
   "id": "b6fc88bf",
   "metadata": {},
   "outputs": [],
   "source": [
    "def topview(root):\n",
    "#     create adictionary\n",
    "    d={}\n",
    "    #create a function for travesing\n",
    "    def traverse(root,key,level):\n",
    "        if root:\n",
    "            #key not present in dict\n",
    "            if key not in d:\n",
    "                d[key]=[root,level]\n",
    "            #key wirh lesser value\n",
    "            elif d[key][1]>level:\n",
    "                d[key]=[root,level]\n",
    "                \n",
    "            #traverse to left and right of tree\n",
    "            traverse(root.left,key-1,level+1)\n",
    "            traverse(root.right,key+1,level+1)\n",
    "            \n",
    "    traverse(root,0,0)\n",
    "    #print the elements in order\n",
    "    for key in sorted(d):\n",
    "        print(d[key][0],end=\" \")"
   ]
  },
  {
   "cell_type": "code",
   "execution_count": 7,
   "id": "a9c47a66",
   "metadata": {},
   "outputs": [],
   "source": [
    "from collections import deque\n",
    "def levelorder(root):\n",
    "    q=dequeue([root])\n",
    "    while len(q):\n",
    "        root=q.popleft()\n",
    "        print(root,end=\"\")\n",
    "        #explore next level\n",
    "        if root:q.append(root.left)\n",
    "        if root:q.append(root.right)\n"
   ]
  },
  {
   "cell_type": "code",
   "execution_count": 10,
   "id": "236897e0",
   "metadata": {},
   "outputs": [
    {
     "name": "stdout",
     "output_type": "stream",
     "text": [
      "<__main__.TreeNode object at 0x000001C0F2310850>\n",
      "<__main__.TreeNode object at 0x000001C0F2310850>\n",
      "<__main__.TreeNode object at 0x000001C0F2310850>\n",
      "<__main__.TreeNode object at 0x000001C0F2310850>\n",
      "<__main__.TreeNode object at 0x000001C0F2310850>\n",
      "<__main__.TreeNode object at 0x000001C0F2310850>\n"
     ]
    }
   ],
   "source": [
    "class TreeNode:\n",
    "    def __init__(self,key):\n",
    "        self.key=key\n",
    "        self.left=None\n",
    "        self.right=None\n",
    "        \n",
    "def insert(root,key):\n",
    "    if root is None:\n",
    "        return TreeNode(key)\n",
    "    if key<root.key:\n",
    "        root.left=insert(root.left,key)\n",
    "    elif key>root.key:\n",
    "        root.right=insert(root.right,key)\n",
    "        \n",
    "    return root\n",
    "\n",
    "root=None\n",
    "keys=[50,30,70,40,60,80]\n",
    "for key in keys:\n",
    "    root=insert(root,key)\n",
    "    print(root)"
   ]
  },
  {
   "cell_type": "code",
   "execution_count": 11,
   "id": "cb246eff",
   "metadata": {},
   "outputs": [],
   "source": [
    "def insert(self,val):\n",
    "    newnode=Node(val)\n",
    "    if self.root is None:\n",
    "        self.root=newnode\n",
    "        return\n",
    "    cur=self.root\n",
    "    while cur:\n",
    "        if val<cur.info:\n",
    "            if cur.left is None:\n",
    "                cur.left=newnode\n",
    "                return\n",
    "            cur=cur.left\n",
    "            \n",
    "        else:\n",
    "            if cur.right is None:\n",
    "                cur.right=newnode\n",
    "                return\n",
    "            cur=cur.right\n",
    "            \n"
   ]
  },
  {
   "cell_type": "code",
   "execution_count": 12,
   "id": "74867e56",
   "metadata": {},
   "outputs": [],
   "source": [
    "def delete(root,key):\n",
    "    if root is None:\n",
    "        return root\n",
    "    \n",
    "    if key<root.key:\n",
    "        root.left=delete(root.left,key)\n",
    "    elif key>root.key:\n",
    "        root.right=delete(root.right,key)\n",
    "    else:\n",
    "        if root.left is None:\n",
    "            return root.right\n",
    "        elif root.right is None:\n",
    "            return root.left\n",
    "        \n",
    "        root.key=min_val(root.right)\n",
    "        root.right=delete(root.right,root.key)\n",
    "    return root\n",
    "\n",
    "def min_val(node):\n",
    "    cur=node\n",
    "    while cur.left is not None:\n",
    "        cur=cur.left\n",
    "    return cur.key"
   ]
  },
  {
   "cell_type": "code",
   "execution_count": 13,
   "id": "ddc3c4b5",
   "metadata": {},
   "outputs": [],
   "source": [
    "#huffman coding\n",
    "\n",
    "def decode(root,s):\n",
    "    #create a temp pointer\n",
    "    temp=root\n",
    "    res=[]\n",
    "    \n",
    "    #traverse the binary coded string\n",
    "    for char in s:\n",
    "        if char in '0':\n",
    "            temp=temp.left\n",
    "        else:\n",
    "            temp=temp.right\n",
    "            \n",
    "        if temp.left is None and temp.right is None:\n",
    "            res.append(temp.data)\n",
    "            temp=root\n",
    "            \n",
    "    print(\"\",join(res))"
   ]
  },
  {
   "cell_type": "code",
   "execution_count": 16,
   "id": "a7069a4b",
   "metadata": {},
   "outputs": [
    {
     "ename": "TypeError",
     "evalue": "__init__() missing 2 required positional arguments: 'char' and 'freq'",
     "output_type": "error",
     "traceback": [
      "\u001b[1;31m---------------------------------------------------------------------------\u001b[0m",
      "\u001b[1;31mTypeError\u001b[0m                                 Traceback (most recent call last)",
      "\u001b[1;32m~\\AppData\\Local\\Temp\\ipykernel_21084\\1643596210.py\u001b[0m in \u001b[0;36m<module>\u001b[1;34m\u001b[0m\n\u001b[0;32m     35\u001b[0m \u001b[1;31m# freq = [5, 9, 12, 13, 16, 45]\u001b[0m\u001b[1;33m\u001b[0m\u001b[1;33m\u001b[0m\u001b[0m\n\u001b[0;32m     36\u001b[0m \u001b[0mdata\u001b[0m\u001b[1;33m=\u001b[0m\u001b[1;34m\"hello world\"\u001b[0m\u001b[1;33m\u001b[0m\u001b[1;33m\u001b[0m\u001b[0m\n\u001b[1;32m---> 37\u001b[1;33m \u001b[0msol\u001b[0m\u001b[1;33m=\u001b[0m\u001b[0mHuffmanNode\u001b[0m\u001b[1;33m(\u001b[0m\u001b[1;33m)\u001b[0m\u001b[1;33m\u001b[0m\u001b[1;33m\u001b[0m\u001b[0m\n\u001b[0m\u001b[0;32m     38\u001b[0m \u001b[0msol\u001b[0m\u001b[1;33m.\u001b[0m\u001b[0mbuild_huffman_tree\u001b[0m\u001b[1;33m(\u001b[0m\u001b[0mdata\u001b[0m\u001b[1;33m)\u001b[0m\u001b[1;33m\u001b[0m\u001b[1;33m\u001b[0m\u001b[0m\n",
      "\u001b[1;31mTypeError\u001b[0m: __init__() missing 2 required positional arguments: 'char' and 'freq'"
     ]
    }
   ],
   "source": [
    "import heapq\n",
    "from collections import defaultdict\n",
    "class HuffmanNode:\n",
    "    def __init__(self,char,freq):\n",
    "        self.char=char\n",
    "        self.freq=freq\n",
    "        self.left=None\n",
    "        self.right=None\n",
    "        \n",
    "    def __lt__(self,other):\n",
    "        return self.freq<other.freq\n",
    "    \n",
    "def build_huffman_tree(data):\n",
    "    freq_table=defaultdict(int)\n",
    "    for char in data:\n",
    "        freq_table[char]+=1\n",
    "        \n",
    "    priority_queue=[HuffmanNode(char,freq)for char,freq in freq_table.items()]\n",
    "    heapq.heapify(priority_queue)\n",
    "    \n",
    "    while len(priority_queue)>1:\n",
    "        left=heapq.heappop(priority_queue)\n",
    "        right=heapq.heappop(priority_queue)\n",
    "        \n",
    "        parent=HuffmanNode(None,left.freq+right.freq)\n",
    "        parent.left=left\n",
    "        parent.right=right\n",
    "        \n",
    "        heapq.heappush(priority_queue,parent)\n",
    "        \n",
    "    return priority_queue[0]\n",
    "\n",
    "\n",
    "# char = ['a', 'b', 'c', 'd', 'e', 'f']\n",
    "  \n",
    "# # frequency of characters\n",
    "# freq = [5, 9, 12, 13, 16, 45]\n",
    "data=\"hello world\"\n",
    "sol=HuffmanNode()\n",
    "sol.build_huffman_tree(data)"
   ]
  },
  {
   "cell_type": "code",
   "execution_count": 17,
   "id": "7c71dd25",
   "metadata": {},
   "outputs": [],
   "source": [
    "# frequency count\n",
    "def count_frequencies(data):\n",
    "    freq={}\n",
    "    for char in data:\n",
    "        if char in freq:\n",
    "            freq[char]+=1\n",
    "        else:\n",
    "            freq[char]=1\n",
    "    return freq\n"
   ]
  },
  {
   "cell_type": "code",
   "execution_count": 18,
   "id": "36721eab",
   "metadata": {},
   "outputs": [],
   "source": [
    "class Node:\n",
    "    def __init__(self,char,freq):\n",
    "        self.char=char\n",
    "        self.freq=freq\n",
    "        self.left=None\n",
    "        self.right=None\n",
    "        \n",
    "def create_huffman_nodes(freq):\n",
    "    nodes=[Node(char,freq) for char,freq in freq.items()]\n",
    "    return nodes"
   ]
  },
  {
   "cell_type": "code",
   "execution_count": 19,
   "id": "6f5339ea",
   "metadata": {},
   "outputs": [],
   "source": [
    "def build_huffman_tree(nodes):\n",
    "    while len(nodes)>1:\n",
    "        nodes.sort(key=lambda x:x.freq)\n",
    "        left=nodes.pop(0)\n",
    "        right=nodes.pop(0)\n",
    "        merge=Node(None,left.freq+right.freq)\n",
    "        merge.left=left\n",
    "        merge.right=right\n",
    "        nodes.append(merge)\n",
    "    return nodes[0]"
   ]
  },
  {
   "cell_type": "code",
   "execution_count": 20,
   "id": "7ed2a1c6",
   "metadata": {},
   "outputs": [],
   "source": [
    "def assign_codes(root):\n",
    "    if root is None:\n",
    "        return\n",
    "    curr_code=\"\"\n",
    "    huffman_code={}\n",
    "    \n",
    "    if root.char is not None:\n",
    "        huffman_code[char]=curr_code\n",
    "        \n",
    "    assign_codes(root.left,curr_code+\"0\",huffman_code)\n",
    "    assign_codes(root.right,curr_code+\"1\",huffman_code)"
   ]
  },
  {
   "cell_type": "code",
   "execution_count": null,
   "id": "71692de0",
   "metadata": {},
   "outputs": [],
   "source": [
    "def encoded(data,huffman_codes):\n",
    "    encoded_data=\"\"\n",
    "    for char in data:\n",
    "        encoded_data+=huffman_codes[char]\n",
    "        \n",
    "    return encoded_data\n",
    "\n",
    "def decode(encoded_data,root):\n",
    "    decoded_data=\"\"\n",
    "    curr_node=root\n",
    "    for bit in encoded_data:\n",
    "        if bit ==\"0\":\n",
    "            curr_node=curr_node.left\n",
    "        else:\n",
    "            curr_node=curr_node.right\n",
    "            \n",
    "    return decoded_data"
   ]
  },
  {
   "cell_type": "code",
   "execution_count": null,
   "id": "3918c84c",
   "metadata": {},
   "outputs": [],
   "source": []
  }
 ],
 "metadata": {
  "kernelspec": {
   "display_name": "Python 3 (ipykernel)",
   "language": "python",
   "name": "python3"
  },
  "language_info": {
   "codemirror_mode": {
    "name": "ipython",
    "version": 3
   },
   "file_extension": ".py",
   "mimetype": "text/x-python",
   "name": "python",
   "nbconvert_exporter": "python",
   "pygments_lexer": "ipython3",
   "version": "3.9.13"
  }
 },
 "nbformat": 4,
 "nbformat_minor": 5
}
