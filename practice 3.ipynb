{
 "cells": [
  {
   "cell_type": "code",
   "execution_count": 8,
   "id": "0257f3c6",
   "metadata": {},
   "outputs": [
    {
     "name": "stdout",
     "output_type": "stream",
     "text": [
      "[1, 2, 3, 4, 5, 6, 7, 8]\n",
      "15\n",
      "18\n",
      "[1, 2, 3, 10, 5, 6, 7, 8]\n",
      "21\n"
     ]
    }
   ],
   "source": [
    "class FenwickTrees:\n",
    "    def __init__(self,n):\n",
    "        self.n=n\n",
    "        self.tree=[0]*(n+1)\n",
    "        \n",
    "    def update(self,i,delta):\n",
    "        i+=1\n",
    "        while i<self.n:\n",
    "            self.tree[i] +=delta\n",
    "            i+=i & -i\n",
    "            \n",
    "    def query(self,i):\n",
    "        i+=1\n",
    "        res=0\n",
    "        while i>0:\n",
    "            res+=self.tree[i]\n",
    "            i-=i&-i\n",
    "        return res\n",
    "            \n",
    "    \n",
    "    def build(self,arr):\n",
    "        for i in range(len(arr)):\n",
    "            self.update(i,arr[i])\n",
    "            \n",
    "if __name__==\"__main__\":\n",
    "    arr=[1,2,3,4,5,6,7,8]\n",
    "    fenwick_tree=FenwickTrees(len(arr))\n",
    "    fenwick_tree.build(arr)\n",
    "    print(arr)\n",
    "    print(fenwick_tree.query(4))\n",
    "    print(fenwick_tree.query(5)-fenwick_tree.query(1))\n",
    "    delta=10-arr[3]\n",
    "    arr[3]=10\n",
    "    fenwick_tree.update(3,delta)\n",
    "    print(arr)\n",
    "    print(fenwick_tree.query(4))\n",
    "    \n",
    "    \n",
    "    "
   ]
  },
  {
   "cell_type": "code",
   "execution_count": 1,
   "id": "9c11fbc0",
   "metadata": {},
   "outputs": [
    {
     "name": "stdout",
     "output_type": "stream",
     "text": [
      "[0, 0, 0, 0, 0, 0]\n"
     ]
    }
   ],
   "source": [
    "n=5\n",
    "x=[0]*(n+1)\n",
    "print "
   ]
  },
  {
   "cell_type": "markdown",
   "id": "19bcd8a9",
   "metadata": {},
   "source": [
    "Range Sum Queries: Given an array of values, perform range sum queries \n",
    "    efficiently using a Fenwick tree. You should be able to\n",
    "    find the sum of values in a given range [l, r] in O(log n) time."
   ]
  },
  {
   "cell_type": "code",
   "execution_count": 14,
   "id": "6c43ca7c",
   "metadata": {},
   "outputs": [
    {
     "name": "stdout",
     "output_type": "stream",
     "text": [
      "22\n"
     ]
    }
   ],
   "source": [
    "class FenwickTree:\n",
    "    def __init__(self,n):\n",
    "        self.n=n\n",
    "        self.bits=[0]*(n+1)\n",
    "        \n",
    "    def update(self,i,delta):\n",
    "        i+=1\n",
    "        while i<self.n:\n",
    "            self.bits[i]+=delta\n",
    "            i+=i&-i\n",
    "            \n",
    "    def prefix_sum(self,i):\n",
    "        i+=1\n",
    "        res=0\n",
    "        while i>0:\n",
    "            res+=self.bits[i]\n",
    "            i-=i&-i\n",
    "        return res\n",
    "    \n",
    "def build_frenwick_tree(arr):\n",
    "    n=len(arr)\n",
    "    fenwick_tree=FenwickTree(n)\n",
    "    for i in range(len(arr)):\n",
    "        fenwick_tree.update(i,arr[i])\n",
    "    return fenwick_tree\n",
    "\n",
    "def range_sum_query(fenwick_tree,l,r):\n",
    "    if l==0:\n",
    "        return fenwick_tree.prefix_sum(r)\n",
    "    else:\n",
    "        return fenwick_tree.prefix_sum(r)-fenwick_tree.prefix_sum(l-1)\n",
    "    \n",
    "arr = [1, 3, 5, 7, 9, 11]\n",
    "delta=10-arr[4]\n",
    "arr[4]=10\n",
    "fenwick_tree=build_frenwick_tree(arr)\n",
    "\n",
    "l,r=2,4\n",
    "result=range_sum_query(fenwick_tree,l,r)\n",
    "print(result)"
   ]
  },
  {
   "cell_type": "raw",
   "id": "ffc1850d",
   "metadata": {},
   "source": [
    "Inverse Queries: Given a sequence of operations where you either update an element or\n",
    "query the sum of a prefix, perform these operations efficiently using a Fenwick tree."
   ]
  },
  {
   "cell_type": "code",
   "execution_count": 15,
   "id": "b55972a2",
   "metadata": {},
   "outputs": [],
   "source": [
    "class FenwickTree:\n",
    "    def __init__(self,n):\n",
    "        self.n=n\n",
    "        self.bit=[0]*(n+1)\n",
    "        \n",
    "    def update(self,i,delta):\n",
    "        i+=1\n",
    "        while i<self.n:\n",
    "            self.bit[i]+=delta\n",
    "            i+=i&-i\n",
    "            \n",
    "    def prefix(self,i):\n",
    "        i+=1\n",
    "        res=0\n",
    "        while i>0:\n",
    "            res+=self.bit[i]\n",
    "            i-=i&-i\n",
    "        return res\n",
    "    \n",
    "n=10\n",
    "fenwick_tree=FenwickTree(n)"
   ]
  },
  {
   "cell_type": "code",
   "execution_count": 20,
   "id": "5c7864f4",
   "metadata": {},
   "outputs": [
    {
     "name": "stdout",
     "output_type": "stream",
     "text": [
      "2\n"
     ]
    }
   ],
   "source": [
    "# Counting Inversions:\n",
    "# Use a Fenwick tree to count the number of inversions in an array. \n",
    "# An inversion is a pair of indices\n",
    "# (i, j) where i < j and array[i] > array[j].\n",
    "\n",
    "class FenwickTree:\n",
    "    def __init__(self,size):\n",
    "        self.size=size\n",
    "        self.tree=[0]*(size+1)\n",
    "        \n",
    "    def update(self,index,delta):\n",
    "        index+=1\n",
    "        while index<=self.size:\n",
    "            self.tree[index]+=delta\n",
    "            index+=index &-index\n",
    "            \n",
    "    def query(self,index):\n",
    "        res=0\n",
    "        while index>0:\n",
    "            res+=self.tree[index]\n",
    "            index-=index&index\n",
    "        return res\n",
    "    \n",
    "def count_inversion(nums):\n",
    "    max_num=max(nums)\n",
    "    fenwick_tree=FenwickTree(max_num)\n",
    "    inversion=0\n",
    "    for num in reversed(nums):\n",
    "        inversion+=fenwick_tree.query(num-1)\n",
    "        fenwick_tree.update(num,1)\n",
    "    return inversion\n",
    "\n",
    "arr=[5,2,6,1]\n",
    "kanaka=count_inversion(arr)\n",
    "print(kanaka)"
   ]
  },
  {
   "cell_type": "code",
   "execution_count": null,
   "id": "7029cbad",
   "metadata": {},
   "outputs": [],
   "source": []
  },
  {
   "cell_type": "code",
   "execution_count": null,
   "id": "893054ee",
   "metadata": {},
   "outputs": [],
   "source": []
  },
  {
   "cell_type": "code",
   "execution_count": 17,
   "id": "1adc18f3",
   "metadata": {},
   "outputs": [
    {
     "name": "stdout",
     "output_type": "stream",
     "text": [
      "Number of inversions: 4\n"
     ]
    }
   ],
   "source": [
    "class FenwickTree:\n",
    "    def __init__(self, size):\n",
    "        self.size = size\n",
    "        self.tree = [0] * (size + 1)\n",
    "\n",
    "    def update(self, index, delta):\n",
    "        while index <= self.size:\n",
    "            self.tree[index] += delta\n",
    "            index += index & -index\n",
    "\n",
    "    def query(self, index):\n",
    "        result = 0\n",
    "        while index > 0:\n",
    "            result += self.tree[index]\n",
    "            index -= index & -index\n",
    "        return result\n",
    "\n",
    "def count_inversions(nums):\n",
    "    max_num = max(nums)\n",
    "    fenwick_tree = FenwickTree(max_num)\n",
    "    inversions = 0\n",
    "\n",
    "    for num in reversed(nums):\n",
    "        inversions += fenwick_tree.query(num - 1)\n",
    "        fenwick_tree.update(num, 1)\n",
    "\n",
    "    return inversions\n",
    "\n",
    "# Example usage:\n",
    "arr = [5, 2, 6, 1]\n",
    "inversions = count_inversions(arr)\n",
    "print(\"Number of inversions:\", inversions)\n"
   ]
  },
  {
   "cell_type": "code",
   "execution_count": 24,
   "id": "8af9f9b0",
   "metadata": {},
   "outputs": [
    {
     "ename": "TypeError",
     "evalue": "FenwickTree() takes no arguments",
     "output_type": "error",
     "traceback": [
      "\u001b[1;31m---------------------------------------------------------------------------\u001b[0m",
      "\u001b[1;31mTypeError\u001b[0m                                 Traceback (most recent call last)",
      "\u001b[1;32m~\\AppData\\Local\\Temp\\ipykernel_6668\\1242888503.py\u001b[0m in \u001b[0;36m<module>\u001b[1;34m\u001b[0m\n\u001b[0;32m     33\u001b[0m \u001b[1;33m\u001b[0m\u001b[0m\n\u001b[0;32m     34\u001b[0m \u001b[0marr\u001b[0m \u001b[1;33m=\u001b[0m \u001b[1;33m[\u001b[0m\u001b[1;36m2\u001b[0m\u001b[1;33m,\u001b[0m \u001b[1;36m4\u001b[0m\u001b[1;33m,\u001b[0m \u001b[1;36m2\u001b[0m\u001b[1;33m,\u001b[0m \u001b[1;36m5\u001b[0m\u001b[1;33m,\u001b[0m \u001b[1;36m7\u001b[0m\u001b[1;33m,\u001b[0m \u001b[1;36m5\u001b[0m\u001b[1;33m,\u001b[0m \u001b[1;36m8\u001b[0m\u001b[1;33m]\u001b[0m\u001b[1;33m\u001b[0m\u001b[1;33m\u001b[0m\u001b[0m\n\u001b[1;32m---> 35\u001b[1;33m \u001b[0mfrequ\u001b[0m\u001b[1;33m=\u001b[0m\u001b[0mfind_freq\u001b[0m\u001b[1;33m(\u001b[0m\u001b[0marr\u001b[0m\u001b[1;33m)\u001b[0m\u001b[1;33m\u001b[0m\u001b[1;33m\u001b[0m\u001b[0m\n\u001b[0m\u001b[0;32m     36\u001b[0m \u001b[1;32mfor\u001b[0m \u001b[0mnum\u001b[0m\u001b[1;33m,\u001b[0m\u001b[0mfreq\u001b[0m \u001b[1;32min\u001b[0m \u001b[0mfrequ\u001b[0m\u001b[1;33m.\u001b[0m\u001b[0mitems\u001b[0m\u001b[1;33m(\u001b[0m\u001b[1;33m)\u001b[0m\u001b[1;33m:\u001b[0m\u001b[1;33m\u001b[0m\u001b[1;33m\u001b[0m\u001b[0m\n\u001b[0;32m     37\u001b[0m     \u001b[0mprint\u001b[0m\u001b[1;33m(\u001b[0m\u001b[1;34mf'{num}:{freq}'\u001b[0m\u001b[1;33m)\u001b[0m\u001b[1;33m\u001b[0m\u001b[1;33m\u001b[0m\u001b[0m\n",
      "\u001b[1;32m~\\AppData\\Local\\Temp\\ipykernel_6668\\1242888503.py\u001b[0m in \u001b[0;36mfind_freq\u001b[1;34m(arr)\u001b[0m\n\u001b[0;32m     22\u001b[0m     \u001b[0mmax_val\u001b[0m\u001b[1;33m=\u001b[0m\u001b[0mmax\u001b[0m\u001b[1;33m(\u001b[0m\u001b[0marr\u001b[0m\u001b[1;33m)\u001b[0m\u001b[1;33m\u001b[0m\u001b[1;33m\u001b[0m\u001b[0m\n\u001b[0;32m     23\u001b[0m     \u001b[0mmin_val\u001b[0m\u001b[1;33m=\u001b[0m\u001b[0mmin\u001b[0m\u001b[1;33m(\u001b[0m\u001b[0marr\u001b[0m\u001b[1;33m)\u001b[0m\u001b[1;33m\u001b[0m\u001b[1;33m\u001b[0m\u001b[0m\n\u001b[1;32m---> 24\u001b[1;33m     \u001b[0mfenwick_tree\u001b[0m\u001b[1;33m=\u001b[0m\u001b[0mFenwickTree\u001b[0m\u001b[1;33m(\u001b[0m\u001b[0mmax_val\u001b[0m \u001b[1;33m-\u001b[0m \u001b[0mmin_val\u001b[0m\u001b[1;33m+\u001b[0m\u001b[1;36m1\u001b[0m\u001b[1;33m)\u001b[0m\u001b[1;33m\u001b[0m\u001b[1;33m\u001b[0m\u001b[0m\n\u001b[0m\u001b[0;32m     25\u001b[0m \u001b[1;33m\u001b[0m\u001b[0m\n\u001b[0;32m     26\u001b[0m     \u001b[0mfreq\u001b[0m\u001b[1;33m=\u001b[0m\u001b[1;33m{\u001b[0m\u001b[1;33m}\u001b[0m\u001b[1;33m\u001b[0m\u001b[1;33m\u001b[0m\u001b[0m\n",
      "\u001b[1;31mTypeError\u001b[0m: FenwickTree() takes no arguments"
     ]
    }
   ],
   "source": [
    "# Frequency Counting: Given an array of integers, \n",
    "# find the frequency of each number efficiently\n",
    "# using a Fenwick tree\n",
    "class FenwickTree:\n",
    "    def __init(self,max_val):\n",
    "        self.max_val=max_val\n",
    "        self.tree=[0]*(max_val+1)\n",
    "        \n",
    "    def update(self,i,val):\n",
    "        while i<self.max_val:\n",
    "            self.tree[i]+=val\n",
    "            i=i&-i\n",
    "            \n",
    "    def query(self,i):\n",
    "        freq=0\n",
    "        while i>0:\n",
    "            freq+=self.tree[i]\n",
    "            i-=i&-i\n",
    "        return freq\n",
    "    \n",
    "def find_freq(arr):\n",
    "    max_val=max(arr)\n",
    "    min_val=min(arr)\n",
    "    fenwick_tree=FenwickTree(max_val - min_val+1)\n",
    "    \n",
    "    freq={}\n",
    "    for num in arr:\n",
    "        kk=num-min_val+1\n",
    "        freq[num]=fenwick_tree.query(kk)\n",
    "        fenwick_tree.update(kk,1)\n",
    "    \n",
    "    return freq\n",
    "\n",
    "arr = [2, 4, 2, 5, 7, 5, 8]\n",
    "frequ=find_freq(arr)\n",
    "for num,freq in frequ.items():\n",
    "    print(f'{num}:{freq}')"
   ]
  },
  {
   "cell_type": "code",
   "execution_count": 25,
   "id": "660d2949",
   "metadata": {},
   "outputs": [
    {
     "name": "stdout",
     "output_type": "stream",
     "text": [
      "21\n",
      "20\n"
     ]
    }
   ],
   "source": [
    "class SegmentTree:\n",
    "    def __init__(self, arr):\n",
    "        self.n = len(arr)\n",
    "        self.tree = [0] * (4 * self.n)  # Initialize the segment tree with zeros\n",
    "        self.build_tree(arr, 0, 0, self.n - 1)\n",
    "\n",
    "    def build_tree(self, arr, tree_index, left, right):\n",
    "        if left == right:\n",
    "            self.tree[tree_index] = arr[left]\n",
    "            return\n",
    "\n",
    "        mid = left + (right - left) // 2\n",
    "        self.build_tree(arr, 2 * tree_index + 1, left, mid)\n",
    "        self.build_tree(arr, 2 * tree_index + 2, mid + 1, right)\n",
    "        self.tree[tree_index] = self.tree[2 * tree_index + 1] + self.tree[2 * tree_index + 2]\n",
    "\n",
    "    def update(self, arr_index, value, tree_index=0, left=0, right=None):\n",
    "        if right is None:\n",
    "            right = self.n - 1\n",
    "\n",
    "        if left == right:\n",
    "            self.tree[tree_index] = value\n",
    "            return\n",
    "\n",
    "        mid = left + (right - left) // 2\n",
    "        if arr_index <= mid:\n",
    "            self.update(arr_index, value, 2 * tree_index + 1, left, mid)\n",
    "        else:\n",
    "            self.update(arr_index, value, 2 * tree_index + 2, mid + 1, right)\n",
    "        self.tree[tree_index] = self.tree[2 * tree_index + 1] + self.tree[2 * tree_index + 2]\n",
    "\n",
    "    def query(self, query_left, query_right, tree_index=0, left=0, right=None):\n",
    "        if right is None:\n",
    "            right = self.n - 1\n",
    "\n",
    "        if query_left <= left and right <= query_right:\n",
    "            return self.tree[tree_index]\n",
    "\n",
    "        if query_right < left or right < query_left:\n",
    "            return 0\n",
    "\n",
    "        mid = left + (right - left) // 2\n",
    "        left_sum = self.query(query_left, query_right, 2 * tree_index + 1, left, mid)\n",
    "        right_sum = self.query(query_left, query_right, 2 * tree_index + 2, mid + 1, right)\n",
    "        return left_sum + right_sum\n",
    "\n",
    "\n",
    "# Example usage:\n",
    "arr = [1, 3, 5, 7, 9, 11]\n",
    "segment_tree = SegmentTree(arr)\n",
    "\n",
    "# Query the sum of elements in the range [2, 4] (0-based indexing)\n",
    "print(segment_tree.query(2, 4))  # Output: 21\n",
    "\n",
    "# Update the element at index 3 to 6\n",
    "segment_tree.update(3, 6)\n",
    "\n",
    "# Query the updated sum in the range [2, 4]\n",
    "print(segment_tree.query(2, 4))  # Output: 20\n"
   ]
  },
  {
   "cell_type": "code",
   "execution_count": 26,
   "id": "2a741b16",
   "metadata": {},
   "outputs": [
    {
     "name": "stdout",
     "output_type": "stream",
     "text": [
      "Sum in range [2, 6]: 25\n",
      "Sum in range [2, 6] after update: 31\n"
     ]
    }
   ],
   "source": [
    "class FenwickTree:\n",
    "    def __init__(self, n):\n",
    "        self.n = n\n",
    "        self.bit = [0] * (n + 1)\n",
    "\n",
    "    def update(self, index, delta):\n",
    "        index += 1  # Convert 0-based index to 1-based index\n",
    "        while index <= self.n:\n",
    "            self.bit[index] += delta\n",
    "            index += index & -index\n",
    "\n",
    "    def query(self, index):\n",
    "        index += 1  # Convert 0-based index to 1-based index\n",
    "        result = 0\n",
    "        while index > 0:\n",
    "            result += self.bit[index]\n",
    "            index -= index & -index\n",
    "        return result\n",
    "\n",
    "    def range_query(self, left, right):\n",
    "        if left == 0:\n",
    "            return self.query(right)\n",
    "        else:\n",
    "            return self.query(right) - self.query(left - 1)\n",
    "\n",
    "# Example usage:\n",
    "n = 10  # Size of the array\n",
    "arr = [1, 2, 3, 4, 5, 6, 7, 8, 9, 10]  # Initial array\n",
    "\n",
    "# Create a Fenwick Tree and initialize it with the elements of the array\n",
    "fenwick_tree = FenwickTree(n)\n",
    "for i in range(n):\n",
    "    fenwick_tree.update(i, arr[i])\n",
    "\n",
    "# Query the sum of elements in the range [2, 6]\n",
    "print(\"Sum in range [2, 6]:\", fenwick_tree.range_query(2, 6))\n",
    "\n",
    "# Update the element at index 3 to 10\n",
    "arr[3] = 10\n",
    "fenwick_tree.update(3, 10 - 4)\n",
    "\n",
    "# Query the sum of elements in the range [2, 6] after the update\n",
    "print(\"Sum in range [2, 6] after update:\", fenwick_tree.range_query(2, 6))\n"
   ]
  },
  {
   "cell_type": "code",
   "execution_count": 28,
   "id": "5584bfbc",
   "metadata": {},
   "outputs": [
    {
     "name": "stdout",
     "output_type": "stream",
     "text": [
      "7\n"
     ]
    }
   ],
   "source": [
    "class FenwickTree:\n",
    "    def __init__(self, n):\n",
    "        self.n = n\n",
    "        self.bit = [0] * (n + 1)\n",
    "\n",
    "    def update(self, index, delta):\n",
    "        index += 1  # Convert 0-based index to 1-based index\n",
    "        while index <= self.n:\n",
    "            self.bit[index] += delta\n",
    "            index += index & -index\n",
    "\n",
    "    def query(self, index):\n",
    "        index += 1  # Convert 0-based index to 1-based index\n",
    "        result = 0\n",
    "        while index > 0:\n",
    "            result += self.bit[index]\n",
    "            index -= index & -index\n",
    "        return result\n",
    "    \n",
    "def binary_search_fenwick(arr,k):\n",
    "    n=len(arr)\n",
    "    fenwick_tree=FenwickTree(n)\n",
    "    \n",
    "    for i,val in enumerate(arr):\n",
    "        fenwick_tree.update(i,1)\n",
    "        \n",
    "    left,right=0,n-1\n",
    "    while left<=right:\n",
    "        mid=left+(right-left)//2\n",
    "        count=fenwick_tree.query(mid)\n",
    "        \n",
    "        if count==k:\n",
    "            return arr[mid]\n",
    "        elif count<k:\n",
    "            left=mid+1\n",
    "        else:\n",
    "            right=mid-1\n",
    "    return None\n",
    "\n",
    "arr=[1, 3, 5, 7, 9, 11, 13]\n",
    "k = 4\n",
    "result=binary_search_fenwick(arr,k)\n",
    "if result is not None:\n",
    "    print(result)\n",
    "else:\n",
    "    print(\"element not found\")"
   ]
  },
  {
   "cell_type": "code",
   "execution_count": 32,
   "id": "e1f59426",
   "metadata": {},
   "outputs": [
    {
     "name": "stdout",
     "output_type": "stream",
     "text": [
      "[9, 16]\n"
     ]
    }
   ],
   "source": [
    "class FenwickTree:\n",
    "    def __init__(self, n):\n",
    "        self.n = n\n",
    "        self.bit = [0] * (n + 1)\n",
    "\n",
    "    def update(self, index, delta):\n",
    "        index += 1  # Convert 0-based index to 1-based index\n",
    "        while index <= self.n:\n",
    "            self.bit[index] += delta\n",
    "            index += index & -index\n",
    "\n",
    "    def query(self, index):\n",
    "        index += 1  # Convert 0-based index to 1-based index\n",
    "        result = 0\n",
    "        while index > 0:\n",
    "            result += self.bit[index]\n",
    "            index -= index & -index\n",
    "        return result\n",
    "    \n",
    "def offline(arr,queries):\n",
    "    n=len(arr)\n",
    "    fenwick_tree=FenwickTree(n)\n",
    "    res=[]\n",
    "    \n",
    "    for i,val in enumerate(arr):\n",
    "        fenwick_tree.update(i,val)\n",
    "        \n",
    "    for query in queries:\n",
    "        if query[0]==0:\n",
    "            l,r=query[1],query[2]\n",
    "            res.append(fenwick_tree.query(r)-fenwick_tree.query(l-1))\n",
    "        else:\n",
    "            index1,delta=query[1],query[2]\n",
    "            fenwick_tree.update(i,delta)\n",
    "            \n",
    "    return res\n",
    "arr = [1, 2, 3, 4, 5]\n",
    "queries = [(0, 1, 3), (1, 2, 1), (0, 0, 4)]\n",
    "resu=offline(arr,queries)\n",
    "print(resu)"
   ]
  },
  {
   "cell_type": "code",
   "execution_count": null,
   "id": "b577d515",
   "metadata": {},
   "outputs": [],
   "source": []
  }
 ],
 "metadata": {
  "kernelspec": {
   "display_name": "Python 3 (ipykernel)",
   "language": "python",
   "name": "python3"
  },
  "language_info": {
   "codemirror_mode": {
    "name": "ipython",
    "version": 3
   },
   "file_extension": ".py",
   "mimetype": "text/x-python",
   "name": "python",
   "nbconvert_exporter": "python",
   "pygments_lexer": "ipython3",
   "version": "3.9.13"
  }
 },
 "nbformat": 4,
 "nbformat_minor": 5
}
